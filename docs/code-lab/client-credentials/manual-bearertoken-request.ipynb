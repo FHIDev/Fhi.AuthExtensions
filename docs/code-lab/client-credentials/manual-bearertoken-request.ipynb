{
 "cells": [
  {
   "cell_type": "markdown",
   "id": "61e298d8",
   "metadata": {},
   "source": [
    "# Bearer token request using shared secret\n",
    "\n",
    "This example demonstrates how to manually request a bearer token using the OAuth 2.0 client credentials flow with `shared secret`.\n",
    "\n",
    "For a detailed explanation of the code flow, see the [tutorial](../../../tutorials/server-to-server/manual-token-request).\n",
    "\n",
    "> Note! Be careful with  `new HttpClient()`, it is only for demo purposes."
   ]
  },
  {
   "cell_type": "code",
   "execution_count": null,
   "id": "06107ca2-05f9-4efa-a7d9-4ee3d9e22dca",
   "metadata": {
    "language_info": {
     "name": "polyglot-notebook"
    },
    "polyglot_notebook": {
     "kernelName": "csharp"
    }
   },
   "outputs": [],
   "source": [
    "#!csharp\n",
    "\n",
    "using System.Net.Http;\n",
    "using System.Net.Http.Headers;\n",
    "using System.Collections.Generic;\n",
    "using System.Text.Json;\n",
    "\n",
    "using var client = new HttpClient();\n",
    "var request = new HttpRequestMessage(HttpMethod.Post, \"https://demo.duendesoftware.com/connect/token\")\n",
    "{\n",
    "    Content = new FormUrlEncodedContent(new Dictionary<string, string>\n",
    "    {\n",
    "        [\"grant_type\"] = \"client_credentials\",\n",
    "        [\"client_id\"] = \"m2m\",\n",
    "        [\"client_secret\"] = \"secret\",\n",
    "        [\"scope\"] = \"api\"\n",
    "    })\n",
    "};\n",
    "\n",
    "var response = await client.SendAsync(request);\n",
    "var content = await response.Content.ReadAsStringAsync();\n",
    "\n",
    "Console.WriteLine($\"Bearer token response: {content}\");"
   ]
  }
 ],
 "metadata": {
  "kernelspec": {
   "display_name": ".NET (C#)",
   "language": "C#",
   "name": ".net-csharp"
  },
  "language_info": {
   "file_extension": ".cs",
   "mimetype": "text/x-csharp",
   "name": "polyglot-notebook",
   "pygments_lexer": "csharp",
   "version": "13.0"
  },
  "polyglot_notebook": {
   "kernelInfo": {
    "defaultKernelName": "csharp",
    "items": [
     {
      "aliases": [],
      "name": "csharp"
     }
    ]
   }
  }
 },
 "nbformat": 4,
 "nbformat_minor": 5
}
