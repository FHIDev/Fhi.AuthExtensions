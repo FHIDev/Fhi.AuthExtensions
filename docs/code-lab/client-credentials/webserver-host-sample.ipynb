{
 "cells": [
  {
   "cell_type": "markdown",
   "id": "c0de55fb",
   "metadata": {},
   "source": [
    "# Using IHttpClientFactory and Duende AccessToken Management\n",
    "\n",
    "This code sample demonstrates how to configure an ASP.NET Core host to use Duende's client credentials token management. It shows how to register a client with the required token endpoint, client ID, and secret, and how to set up an HttpClient that automatically manages access tokens.\n",
    "\n",
    "For a detailed explanation of the code flow, see the [Web server host tutorial](../../../tutorials/server-to-server/web-server-host).\n",
    "\n",
    "## Steps\n",
    "\n",
    "1. Start the API using the [WebAPI sample](https://github.com/FHIDev/Fhi.AuthExtensions/tree/main/samples/Fhi.Samples.WebApi).\n",
    "2. Run the code below with .NET Interactive in VS Code or Jupyter Lab. You have the following options:\n",
    "   1. Sample using HttpClient\n",
    "   2. Sample using Refit"
   ]
  },
  {
   "cell_type": "markdown",
   "id": "c7443216",
   "metadata": {},
   "source": [
    "## Sample using HttpClient"
   ]
  },
  {
   "cell_type": "code",
   "execution_count": null,
   "id": "12c6793d-b345-4d56-9acf-68136506b4ca",
   "metadata": {
    "language_info": {
     "name": "polyglot-notebook"
    },
    "polyglot_notebook": {
     "kernelName": "csharp"
    }
   },
   "outputs": [],
   "source": [
    "#!csharp\n",
    "#load \"../HttpLoggerHelper.csx\"\n",
    "#r \"nuget: Duende.AccessTokenManagement, 3.2.0\"\n",
    "#r \"nuget: Microsoft.Extensions.Hosting, 9.0.5\"\n",
    "#r \"nuget: Microsoft.Extensions.Caching.Memory, 9.0.0\"\n",
    "\n",
    "using Microsoft.Extensions.Hosting;\n",
    "using Duende.AccessTokenManagement;\n",
    "using Microsoft.Extensions.DependencyInjection;\n",
    "using System.Net.Http;\n",
    "\n",
    "async Task RunAsync()\n",
    "{\n",
    "    var builder = Host.CreateDefaultBuilder();\n",
    "\n",
    "    builder.ConfigureServices(services =>\n",
    "    {\n",
    "        services\n",
    "            .AddClientCredentialsTokenManagement()\n",
    "            .AddClient(\"m2m\", options =>\n",
    "            {\n",
    "                options.TokenEndpoint = \"https://demo.duendesoftware.com/connect/token\";\n",
    "                options.ClientId = \"m2m\";\n",
    "                options.ClientSecret = \"secret\";\n",
    "                options.Scope = \"api\";\n",
    "            });\n",
    "\n",
    "        services.AddClientCredentialsHttpClient(\"m2m\", \"m2m\", client =>\n",
    "        {\n",
    "            client.BaseAddress = new Uri(\"https://localhost:7150\");\n",
    "        });\n",
    "\n",
    "        services.AddDistributedMemoryCache();\n",
    "        services.AddTransient<ITestService, TestService>();\n",
    "    });\n",
    "\n",
    "    var host = builder.Build();\n",
    "    \n",
    "    using var scope = host.Services.CreateScope();\n",
    "    var testService = scope.ServiceProvider.GetRequiredService<ITestService>();\n",
    "    await testService.Get();\n",
    "}\n",
    "\n",
    "interface ITestService\n",
    "{\n",
    "    public Task Get();\n",
    "}\n",
    "\n",
    "// A service that uses the registerd HttpClient with HttpClientFactory to make requests.\n",
    "class TestService : ITestService\n",
    "{\n",
    "    private readonly IHttpClientFactory _factory;\n",
    "    public TestService(IHttpClientFactory factory)\n",
    "    {\n",
    "        _factory = factory;\n",
    "    }\n",
    "    \n",
    "    public async Task Get()\n",
    "    {\n",
    "        var client = _factory.CreateClient(\"m2m\");\n",
    "        var response = await client.GetAsync(\"api/v1/integration/health-records\");\n",
    "        await HttpLogger.LogRequest(response.RequestMessage);\n",
    "        await HttpLogger.LogResponse(response);\n",
    "    }\n",
    "}\n",
    "\n",
    "await RunAsync();"
   ]
  },
  {
   "cell_type": "markdown",
   "id": "f604fe8e",
   "metadata": {},
   "source": [
    "## Sample using Refit\n",
    "\n",
    "> **Note!** This sample is not running due to a Refit. Refit uses C# source generators to generate the client code at compile-time — and source generators do not run in .NET Interactive (Jupyter)"
   ]
  },
  {
   "cell_type": "code",
   "execution_count": null,
   "metadata": {
    "language_info": {
     "name": "polyglot-notebook"
    },
    "polyglot_notebook": {
     "kernelName": "csharp"
    }
   },
   "outputs": [],
   "source": [
    "#!csharp\n",
    "#r \"nuget: Duende.AccessTokenManagement, 3.2.0\"\n",
    "#r \"nuget: Microsoft.Extensions.Hosting, 9.0.5\"\n",
    "#r \"nuget: Microsoft.Extensions.Caching.Memory, 9.0.0\"\n",
    "#r \"nuget: Refit, 8.0.0\"\n",
    "#r \"nuget: Refit.HttpClientFactory, 8.0.0\"\n",
    "\n",
    "using Microsoft.Extensions.Hosting;\n",
    "using Duende.AccessTokenManagement;\n",
    "using Microsoft.Extensions.DependencyInjection;\n",
    "using Refit;\n",
    "using System.Net.Http;\n",
    "\n",
    "async Task RunAsync()\n",
    "{\n",
    "    var builder = Host.CreateDefaultBuilder();\n",
    "\n",
    "    builder.ConfigureServices(services =>\n",
    "    {\n",
    "        services\n",
    "            .AddClientCredentialsTokenManagement()\n",
    "            .AddClient(\"m2m\", options =>\n",
    "            {\n",
    "                options.TokenEndpoint = \"https://demo.duendesoftware.com/connect/token\";\n",
    "                options.ClientId = \"m2m\";\n",
    "                options.ClientSecret = \"secret\";\n",
    "                options.Scope = \"api\";\n",
    "            });\n",
    "\n",
    "        services.AddClientCredentialsHttpClient(\"m2m\", \"m2m\", client =>\n",
    "        {\n",
    "            client.BaseAddress = new Uri(\"https://localhost:7150\");\n",
    "        })\n",
    "        .AddTypedClient(RestService.For<IHealthRecordApi>);\n",
    "\n",
    "        services.AddDistributedMemoryCache();\n",
    "        services.AddTransient<ITestService, TestService>();\n",
    "    });\n",
    "\n",
    "    var host = builder.Build();\n",
    "    \n",
    "    using var scope = host.Services.CreateScope();\n",
    "    var testService = scope.ServiceProvider.GetRequiredService<ITestService>();\n",
    "    await testService.Get();\n",
    "}\n",
    "\n",
    "interface ITestService\n",
    "{\n",
    "    public Task Get();\n",
    "}\n",
    "\n",
    "// Using Refit to define the API contract\n",
    "public record HealthRecordDto(string Name, string Description, DateTime CreatedAt);\n",
    "public interface IHealthRecordApi\n",
    "{\n",
    "    [Refit.Get(\"/api/v1/integration/health-records\")]\n",
    "    Task<IEnumerable<HealthRecordDto>> GetHealthRecordsAsync();\n",
    "}\n",
    "\n",
    "// A service that uses the registerd RefitClient to make requests.\n",
    "class TestService : ITestService\n",
    "{\n",
    "    private readonly IHealthRecordApi _healthRecordApi;\n",
    "    public TestService(IHealthRecordApi healthRecordApi)\n",
    "    {\n",
    "        _healthRecordApi = healthRecordApi;\n",
    "    }\n",
    "    \n",
    "    public async Task Get()\n",
    "    {\n",
    "        var response = await _healthRecordApi.GetHealthRecordsAsync();\n",
    "        Console.WriteLine($\"Health Records: {response}\");\n",
    "        foreach (var record in response)\n",
    "        {\n",
    "            Console.WriteLine($\"- {record.Name}: {record.Description} (Created at: {record.CreatedAt})\");\n",
    "        }\n",
    "    }\n",
    "}\n",
    "\n",
    "await RunAsync();"
   ]
  }
 ],
 "metadata": {
  "kernelspec": {
   "display_name": ".NET (C#)",
   "language": "C#",
   "name": ".net-csharp"
  },
  "language_info": {
   "file_extension": ".cs",
   "mimetype": "text/x-csharp",
   "name": "polyglot-notebook",
   "pygments_lexer": "csharp",
   "version": "13.0"
  },
  "polyglot_notebook": {
   "kernelInfo": {
    "defaultKernelName": "csharp",
    "items": [
     {
      "aliases": [],
      "name": "csharp"
     }
    ]
   }
  }
 },
 "nbformat": 4,
 "nbformat_minor": 5
}
