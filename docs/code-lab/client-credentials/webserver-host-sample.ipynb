{
 "cells": [
  {
   "cell_type": "markdown",
   "id": "c0de55fb",
   "metadata": {},
   "source": [
    "# Using IHttpClientFactory and Duende AccessToken Management\n",
    "\n",
    "This code sample demonstrates how to configure an ASP.NET Core host to use Duende's client credentials token management. It shows how to register a client with the required token endpoint, client ID, and secret, and how to set up an HttpClient that automatically manages access tokens.\n",
    "\n",
    "For a detailed explanation of the code flow, see the [Web server host tutorial](../../../tutorials/server-to-server/web-server-host).\n",
    "\n",
    "## Steps\n",
    "\n",
    "1. Start the API using the [WebAPI sample](https://github.com/FHIDev/Fhi.AuthExtensions/tree/main/samples/Fhi.Samples.WebApi).\n",
    "2. Run the code below with .NET Interactive in VS Code or Jupyter Lab."
   ]
  },
  {
   "cell_type": "code",
   "execution_count": null,
   "id": "12c6793d-b345-4d56-9acf-68136506b4ca",
   "metadata": {
    "language_info": {
     "name": "polyglot-notebook"
    },
    "polyglot_notebook": {
     "kernelName": "csharp"
    }
   },
   "outputs": [],
   "source": [
    "#!csharp\n",
    "#r \"nuget: Duende.AccessTokenManagement, 3.2.0\"\n",
    "#r \"nuget: Microsoft.Extensions.Hosting, 9.0.5\"\n",
    "#r \"nuget: Microsoft.Extensions.Caching.Memory, 9.0.5\"\n",
    "\n",
    "using Microsoft.Extensions.Hosting;\n",
    "using Duende.AccessTokenManagement;\n",
    "using Microsoft.Extensions.DependencyInjection;\n",
    "using System.Net.Http;\n",
    "\n",
    "async Task RunAsync()\n",
    "{\n",
    "    var builder = Host.CreateDefaultBuilder();\n",
    "\n",
    "    builder.ConfigureServices(services =>\n",
    "    {\n",
    "        services\n",
    "            .AddClientCredentialsTokenManagement()\n",
    "            .AddClient(\"m2m\", options =>\n",
    "            {\n",
    "                options.TokenEndpoint = \"https://demo.duendesoftware.com/connect/token\";\n",
    "                options.ClientId = \"m2m\";\n",
    "                options.ClientSecret = \"secret\";\n",
    "                options.Scope = \"api\";\n",
    "            });\n",
    "\n",
    "        services.AddClientCredentialsHttpClient(\"m2m\", \"m2m\", client =>\n",
    "        {\n",
    "            client.BaseAddress = new Uri(\"https://localhost:7150\");\n",
    "        });\n",
    "\n",
    "        services.AddDistributedMemoryCache();\n",
    "        services.AddTransient<ITestService, TestService>();\n",
    "    });\n",
    "\n",
    "    var host = builder.Build();\n",
    "    \n",
    "    using var scope = host.Services.CreateScope();\n",
    "    var testService = scope.ServiceProvider.GetRequiredService<ITestService>();\n",
    "    await testService.Get();\n",
    "}\n",
    "\n",
    "interface ITestService\n",
    "{\n",
    "    public Task Get();\n",
    "}\n",
    "\n",
    "// <summary>\n",
    "// A service that uses the registerd HttpClient with HttpClientFactory to make requests.\n",
    "class TestService : ITestService\n",
    "{\n",
    "    private readonly IHttpClientFactory _factory;\n",
    "    public TestService(IHttpClientFactory factory)\n",
    "    {\n",
    "        _factory = factory;\n",
    "    }\n",
    "    \n",
    "    public async Task Get()\n",
    "    {\n",
    "        var client = _factory.CreateClient(\"m2m\");\n",
    "        Console.WriteLine(\"Base address: \" + client.BaseAddress);\n",
    "         var response = await client.GetAsync(\"api/v1/integration/health-records\");\n",
    "        Console.WriteLine(response);\n",
    "    }\n",
    "}\n",
    "\n",
    "await RunAsync();"
   ]
  }
 ],
 "metadata": {
  "kernelspec": {
   "display_name": ".NET (C#)",
   "language": "C#",
   "name": ".net-csharp"
  },
  "language_info": {
   "file_extension": ".cs",
   "mimetype": "text/x-csharp",
   "name": "polyglot-notebook",
   "pygments_lexer": "csharp",
   "version": "13.0"
  },
  "polyglot_notebook": {
   "kernelInfo": {
    "defaultKernelName": "csharp",
    "items": [
     {
      "aliases": [],
      "name": "csharp"
     }
    ]
   }
  }
 },
 "nbformat": 4,
 "nbformat_minor": 5
}
