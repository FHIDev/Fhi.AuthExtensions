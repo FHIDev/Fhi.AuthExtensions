{
 "cells": [
  {
   "cell_type": "markdown",
   "id": "16e0666f",
   "metadata": {},
   "source": [
    "# ASP.NET Core with Multiple HttpClients in Jupyter Lab"
   ]
  },
  {
   "cell_type": "markdown",
   "id": "b80b2ff7",
   "metadata": {},
   "source": [
    "\n",
    "This notebook demonstrates how to run an **ASP.NET Core app** with multiple HttpClient configurations in Jupyter Lab using the **.NET Interactive kernel**.\n",
    "\n"
   ]
  },
  {
   "cell_type": "code",
   "execution_count": null,
   "id": "32559fdf",
   "metadata": {
    "vscode": {
     "languageId": "polyglot-notebook"
    }
   },
   "outputs": [],
   "source": [
    "#!csharp\n",
    "#load \"../HttpLoggerHelper.csx\"\n",
    "#r \"nuget: Duende.AccessTokenManagement, 3.2.0\"\n",
    "#r \"nuget: Microsoft.Extensions.Hosting, 9.0.5\"\n",
    "#r \"nuget: Microsoft.Extensions.Caching.Memory, 9.0.0\"\n",
    "#r \"nuget: Fhi.Authentication.Extensions, 1.0.0\"\n",
    "\n",
    "using Microsoft.Extensions.Hosting;\n",
    "using Duende.AccessTokenManagement;\n",
    "using Duende.IdentityModel;\n",
    "using Duende.IdentityModel.Client;\n",
    "using Fhi.Authentication.Tokens;\n",
    "using Microsoft.Extensions.DependencyInjection;\n",
    "using System.Net.Http;\n",
    "\n",
    "public static class StartupWithMultipleHttpClient\n",
    "{\n",
    "    public static WebApplication ConfigureServices(this WebApplicationBuilder builder)\n",
    "    {\n",
    "        builder.Configuration.AddJsonFile(\"appsettings.multipleclient.json\", optional: false, reloadOnChange: true);\n",
    "        builder.Services.Configure<List<HttpClientConfiguration>>(\n",
    "            builder.Configuration.GetSection(\"HttpClientConfigurations\"));\n",
    "\n",
    "        builder.Services.AddSingleton<IDiscoveryCacheFactory, DiscoveryCacheFactory>();\n",
    "\n",
    "        builder.Services\n",
    "            .AddClientCredentialsTokenManagement()\n",
    "            .AddClient(\"webapi.duende.jwt\", options => { })\n",
    "            .AddClient(\"webapi.duende.sharedsecret\", options => { });\n",
    "\n",
    "        builder.Services.AddSingleton<IConfigureNamedOptions<ClientCredentialsClient>, ClientCredentialsClientConfigureOptions>();\n",
    "\n",
    "        return builder.Build();\n",
    "    }\n",
    "\n",
    "    public static WebApplication ConfigurePipeline(this WebApplication app)\n",
    "    {\n",
    "        return app;\n",
    "    }\n",
    "}\n",
    "\n",
    "internal class ClientCredentialsClientConfigureOptions : IConfigureNamedOptions<ClientCredentialsClient>\n",
    "{\n",
    "    private readonly IDiscoveryCacheFactory _discoveryCacheFactory;\n",
    "    private readonly IOptions<List<HttpClientConfiguration>> _configs;\n",
    "\n",
    "    public ClientCredentialsClientConfigureOptions(\n",
    "        IDiscoveryCacheFactory discoveryCacheFactory,\n",
    "        IOptions<List<HttpClientConfiguration>> configs)\n",
    "    {\n",
    "        _discoveryCacheFactory = discoveryCacheFactory;\n",
    "        _configs = configs;\n",
    "    }\n",
    "\n",
    "    public void Configure(string? name, ClientCredentialsClient options)\n",
    "    {\n",
    "        if (!string.IsNullOrEmpty(name))\n",
    "        {\n",
    "            var config = _configs.Value.FirstOrDefault(c => c.Name == name);\n",
    "            if (config == null) return;\n",
    "\n",
    "            var disco = _discoveryCacheFactory.GetCache(name).GetAsync().GetAwaiter().GetResult();\n",
    "            if (disco.IsError) throw new Exception($\"Discovery failed for {name}: {disco.Error}\");\n",
    "\n",
    "            options.TokenEndpoint = disco.TokenEndpoint;\n",
    "            options.ClientId = config.ClientAuthentication.ClientId;\n",
    "            options.ClientSecret = config.ClientAuthentication.Secret;\n",
    "            options.Scope = config.ClientAuthentication.Scope;\n",
    "        }\n",
    "    }\n",
    "\n",
    "    public void Configure(ClientCredentialsClient options) => Configure(\"\", options);\n",
    "}\n"
   ]
  },
  {
   "cell_type": "code",
   "execution_count": null,
   "id": "d61b9b50",
   "metadata": {
    "vscode": {
     "languageId": "polyglot-notebook"
    }
   },
   "outputs": [],
   "source": [
    "\n",
    "// Build WebApplication with appsettings.json\n",
    "var builder = WebApplication.CreateBuilder();\n",
    "builder.Configuration.AddJsonFile(\"appsettings.json\", optional: false, reloadOnChange: true);\n",
    "\n",
    "var app = builder.ConfigureServices().ConfigurePipeline();\n",
    "app.MapGet(\"/\", () => \"Hello from Duende + Jupyter\");\n",
    "\n",
    "// Run in background so notebook remains interactive\n",
    "_ = Task.Run(() => app.RunAsync(\"http://localhost:5005\"));\n",
    "\"App running on http://localhost:5005\"\n"
   ]
  },
  {
   "cell_type": "code",
   "execution_count": null,
   "id": "8b5d89d8",
   "metadata": {
    "vscode": {
     "languageId": "polyglot-notebook"
    }
   },
   "outputs": [],
   "source": [
    "\n",
    "var client = new HttpClient();\n",
    "var response = await client.GetStringAsync(\"http://localhost:5005/\");\n"
   ]
  }
 ],
 "metadata": {
  "language_info": {
   "name": "csharp"
  }
 },
 "nbformat": 4,
 "nbformat_minor": 5
}
