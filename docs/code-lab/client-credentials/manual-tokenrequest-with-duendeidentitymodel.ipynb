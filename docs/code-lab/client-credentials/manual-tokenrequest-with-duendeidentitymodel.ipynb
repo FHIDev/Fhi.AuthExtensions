{
 "cells": [
  {
   "cell_type": "markdown",
   "id": "00d08206",
   "metadata": {},
   "source": [
    "## Bearer token request using Duende.IdentityModel.Client"
   ]
  },
  {
   "cell_type": "code",
   "execution_count": null,
   "id": "b112cff5",
   "metadata": {
    "language_info": {
     "name": "polyglot-notebook"
    },
    "polyglot_notebook": {
     "kernelName": "csharp"
    }
   },
   "outputs": [],
   "source": [
    "#!csharp\n",
    "#load \"../HttpLoggerHelper.csx\"\n",
    "#r \"nuget: Fhi.Authentication.Extensions, 1.0.0-beta\"\n",
    "#r \"nuget: Duende.IdentityModel, 7.1.0\"\n",
    "\n",
    "using System.Net.Http;\n",
    "using System.Net.Http.Headers;\n",
    "using Duende.IdentityModel.Client;\n",
    "using Duende.IdentityModel;\n",
    "\n",
    "var client = new HttpClient();\n",
    "var discovery = await client.GetDiscoveryDocumentAsync(\"https://demo.duendesoftware.com\");\n",
    "Console.WriteLine($\"Discovery Document: {discovery.IsError}\");\n",
    "if (discovery is not null && !discovery.IsError && discovery.Issuer is not null && discovery.TokenEndpoint is not null)\n",
    "{\n",
    "    var tokenRequest = new ClientCredentialsTokenRequest()\n",
    "    {\n",
    "        ClientId = \"m2m\",\n",
    "        Address = discovery.TokenEndpoint,\n",
    "        GrantType = OidcConstants.GrantTypes.ClientCredentials,\n",
    "        ClientCredentialStyle = ClientCredentialStyle.PostBody,\n",
    "        ClientSecret = \"secret\", // This is used for shared secrets, not needed when using client assertion\n",
    "        ////ClientAssertion = new ClientAssertion()\n",
    "        ////{\n",
    "        ////    Type = OidcConstants.ClientAssertionTypes.JwtBearer,\n",
    "        ////    Value = ClientAssertionTokenHandler.CreateJwtToken(discovery.Issuer, \"\"m2m.jwt, \"jwk...\")\n",
    "        ////},\n",
    "        Scope = \"api\"\n",
    "    };\n",
    "    var tokenResponse = await client.RequestClientCredentialsTokenAsync(tokenRequest);\n",
    "    await HttpLogger.LogResponse(tokenResponse.HttpResponse);\n",
    "}"
   ]
  }
 ],
 "metadata": {
  "kernelspec": {
   "display_name": ".NET (C#)",
   "language": "C#",
   "name": ".net-csharp"
  },
  "language_info": {
   "name": "polyglot-notebook"
  },
  "polyglot_notebook": {
   "kernelInfo": {
    "defaultKernelName": "csharp",
    "items": [
     {
      "aliases": [],
      "name": "csharp"
     }
    ]
   }
  }
 },
 "nbformat": 4,
 "nbformat_minor": 5
}
