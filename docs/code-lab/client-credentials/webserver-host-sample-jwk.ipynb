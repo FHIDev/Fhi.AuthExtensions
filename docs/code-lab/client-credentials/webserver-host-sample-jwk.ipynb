{
 "cells": [
  {
   "cell_type": "markdown",
   "id": "3b7dd40e",
   "metadata": {},
   "source": [
    "# Using Private Key JWT Secret\n",
    "\n",
    "There are two ways of setting up a Private Key Jwt secret\n",
    "\n",
    "- Configure ClientCredentials asserion as parameters to AddClient\n",
    "- Using a ClientAssertionService "
   ]
  },
  {
   "cell_type": "markdown",
   "id": "d2c5f22f",
   "metadata": {},
   "source": [
    "## Configure ClientCredentials asserion as parameters to AddClient"
   ]
  },
  {
   "cell_type": "code",
   "execution_count": null,
   "metadata": {
    "language_info": {
     "name": "polyglot-notebook"
    },
    "polyglot_notebook": {
     "kernelName": "csharp"
    },
    "tags": [
     "parameters"
    ]
   },
   "outputs": [],
   "source": [
    "#!csharp\n",
    "var authority = \"https://demo.duendesoftware.com\"; // Set your authority URL here\"\n",
    "var clientId = \"m2m.jwt\";\n",
    "var jwk = \"\"\"\n",
    "{\n",
    "    \"d\":\"GmiaucNIzdvsEzGjZjd43SDToy1pz-Ph-shsOUXXh-dsYNGftITGerp8bO1iryXh_zUEo8oDK3r1y4klTonQ6bLsWw4ogjLPmL3yiqsoSjJa1G2Ymh_RY_sFZLLXAcrmpbzdWIAkgkHSZTaliL6g57vA7gxvd8L4s82wgGer_JmURI0ECbaCg98JVS0Srtf9GeTRHoX4foLWKc1Vq6NHthzqRMLZe-aRBNU9IMvXNd7kCcIbHCM3GTD_8cFj135nBPP2HOgC_ZXI1txsEf-djqJj8W5vaM7ViKU28IDv1gZGH3CatoysYx6jv1XJVvb2PH8RbFKbJmeyUm3Wvo-rgQ\",\n",
    "    \"dp\":\"YNjVBTCIwZD65WCht5ve06vnBLP_Po1NtL_4lkholmPzJ5jbLYBU8f5foNp8DVJBdFQW7wcLmx85-NC5Pl1ZeyA-Ecbw4fDraa5Z4wUKlF0LT6VV79rfOF19y8kwf6MigyrDqMLcH_CRnRGg5NfDsijlZXffINGuxg6wWzhiqqE\",\n",
    "    \"dq\":\"LfMDQbvTFNngkZjKkN2CBh5_MBG6Yrmfy4kWA8IC2HQqID5FtreiY2MTAwoDcoINfh3S5CItpuq94tlB2t-VUv8wunhbngHiB5xUprwGAAnwJ3DL39D2m43i_3YP-UO1TgZQUAOh7Jrd4foatpatTvBtY3F1DrCrUKE5Kkn770M\",\n",
    "    \"e\":\"AQAB\",\n",
    "    \"kid\":\"ZzAjSnraU3bkWGnnAqLapYGpTyNfLbjbzgAPbbW2GEA\",\n",
    "    \"kty\":\"RSA\",\n",
    "    \"n\":\"wWwQFtSzeRjjerpEM5Rmqz_DsNaZ9S1Bw6UbZkDLowuuTCjBWUax0vBMMxdy6XjEEK4Oq9lKMvx9JzjmeJf1knoqSNrox3Ka0rnxXpNAz6sATvme8p9mTXyp0cX4lF4U2J54xa2_S9NF5QWvpXvBeC4GAJx7QaSw4zrUkrc6XyaAiFnLhQEwKJCwUw4NOqIuYvYp_IXhw-5Ti_icDlZS-282PcccnBeOcX7vc21pozibIdmZJKqXNsL1Ibx5Nkx1F1jLnekJAmdaACDjYRLL_6n3W4wUp19UvzB1lGtXcJKLLkqB6YDiZNu16OSiSprfmrRXvYmvD8m6Fnl5aetgKw\",\n",
    "    \"p\":\"7enorp9Pm9XSHaCvQyENcvdU99WCPbnp8vc0KnY_0g9UdX4ZDH07JwKu6DQEwfmUA1qspC-e_KFWTl3x0-I2eJRnHjLOoLrTjrVSBRhBMGEH5PvtZTTThnIY2LReH-6EhceGvcsJ_MhNDUEZLykiH1OnKhmRuvSdhi8oiETqtPE\",\n",
    "    \"q\":\"0CBLGi_kRPLqI8yfVkpBbA9zkCAshgrWWn9hsq6a7Zl2LcLaLBRUxH0q1jWnXgeJh9o5v8sYGXwhbrmuypw7kJ0uA3OgEzSsNvX5Ay3R9sNel-3Mqm8Me5OfWWvmTEBOci8RwHstdR-7b9ZT13jk-dsZI7OlV_uBja1ny9Nz9ts\",\n",
    "    \"qi\":\"pG6J4dcUDrDndMxa-ee1yG4KjZqqyCQcmPAfqklI2LmnpRIjcK78scclvpboI3JQyg6RCEKVMwAhVtQM6cBcIO3JrHgqeYDblp5wXHjto70HVW6Z8kBruNx1AH9E8LzNvSRL-JVTFzBkJuNgzKQfD0G77tQRgJ-Ri7qu3_9o1M4\"\n",
    "}\n",
    "\"\"\";\n",
    "var scope = \"api\";"
   ]
  },
  {
   "cell_type": "code",
   "execution_count": null,
   "metadata": {
    "language_info": {
     "name": "polyglot-notebook"
    },
    "polyglot_notebook": {
     "kernelName": "csharp"
    }
   },
   "outputs": [],
   "source": [
    "#!csharp\n",
    "#load \"../HttpLoggerHelper.csx\"\n",
    "#r \"nuget: Duende.AccessTokenManagement, 3.2.0\"\n",
    "#r \"nuget: Microsoft.Extensions.Hosting, 9.0.5\"\n",
    "#r \"nuget: Microsoft.Extensions.Caching.Memory, 9.0.0\"\n",
    "#r \"nuget: Fhi.Authentication.Extensions, 1.0.0\"\n",
    "\n",
    "using Microsoft.Extensions.Hosting;\n",
    "using Duende.AccessTokenManagement;\n",
    "using Duende.IdentityModel;\n",
    "using Duende.IdentityModel.Client;\n",
    "using Fhi.Authentication.Tokens;\n",
    "using Microsoft.Extensions.DependencyInjection;\n",
    "using System.Net.Http;\n",
    "\n",
    "async Task RunAsync()\n",
    "{\n",
    "    var builder = Host.CreateDefaultBuilder();\n",
    "\n",
    "    builder.ConfigureServices(services =>\n",
    "    {\n",
    "        services\n",
    "            .AddClientCredentialsTokenManagement()\n",
    "            .AddClient(clientId, options =>\n",
    "            {\n",
    "                options.TokenEndpoint = \"https://demo.duendesoftware.com/connect/token\";\n",
    "                options.ClientId = clientId;\n",
    "                options.Parameters = new Duende.IdentityModel.Client.Parameters()\n",
    "                {\n",
    "                    { OidcConstants.TokenRequest.ClientAssertionType, OidcConstants.ClientAssertionTypes.JwtBearer },\n",
    "                    { OidcConstants.TokenRequest.ClientAssertion, ClientAssertionTokenHandler.CreateJwtToken(\n",
    "                        issuer: authority, \n",
    "                        clientId,\n",
    "                        jwk) \n",
    "                    }\n",
    "                };\n",
    "                options.Scope = scope;\n",
    "            });\n",
    "\n",
    "        services.AddClientCredentialsHttpClient(clientId, clientId, client =>\n",
    "        {\n",
    "            client.BaseAddress = new Uri(\"https://localhost:7150\");\n",
    "        });\n",
    "\n",
    "        services.AddDistributedMemoryCache();\n",
    "        services.AddTransient<ITestService, TestService>();\n",
    "    });\n",
    "\n",
    "    var host = builder.Build();\n",
    "    \n",
    "    using var scope = host.Services.CreateScope();\n",
    "    var testService = scope.ServiceProvider.GetRequiredService<ITestService>();\n",
    "    await testService.Get();\n",
    "}\n",
    "\n",
    "interface ITestService\n",
    "{\n",
    "    public Task Get();\n",
    "}\n",
    "\n",
    "// A service that uses the registerd HttpClient with HttpClientFactory to make requests.\n",
    "class TestService : ITestService\n",
    "{\n",
    "    private readonly IHttpClientFactory _factory;\n",
    "    public TestService(IHttpClientFactory factory)\n",
    "    {\n",
    "        _factory = factory;\n",
    "    }\n",
    "    \n",
    "    public async Task Get()\n",
    "    {\n",
    "        var client = _factory.CreateClient(\"m2m.jwt\");\n",
    "        var response = await client.GetAsync(\"api/v1/integration/health-records\");\n",
    "        await HttpLogger.LogRequest(response.RequestMessage);\n",
    "        await HttpLogger.LogResponse(response);\n",
    "    }\n",
    "}\n",
    "\n",
    "await RunAsync();"
   ]
  }
 ],
 "metadata": {
  "kernelspec": {
   "display_name": ".NET (C#)",
   "language": "C#",
   "name": ".net-csharp"
  },
  "language_info": {
   "name": "polyglot-notebook"
  },
  "polyglot_notebook": {
   "kernelInfo": {
    "defaultKernelName": "csharp",
    "items": [
     {
      "aliases": [],
      "name": "csharp"
     }
    ]
   }
  }
 },
 "nbformat": 4,
 "nbformat_minor": 5
}
