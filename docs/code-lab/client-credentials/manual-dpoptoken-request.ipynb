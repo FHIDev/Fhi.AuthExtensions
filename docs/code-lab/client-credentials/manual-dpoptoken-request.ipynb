{
 "cells": [
  {
   "cell_type": "markdown",
   "id": "0b28b380",
   "metadata": {},
   "source": [
    "# DPoP token request\n",
    "This example demonstrates how to manually request a DPoP token using the OAuth 2.0 client credentials flow. The code sample demostrates how to request an access token from an OAuth 2.0 /token endpoint using DPoP (Demonstration of Proof of Possession), including support for nonce binding to enhance security.\n",
    "\n",
    "For a detailed explanation of the code flow, see the [tutorial](../../../tutorials/server-to-server/manual-token-request).\n",
    "\n",
    "> Note! Be careful with  `new HttpClient()`, it is only for demo purposes."
   ]
  },
  {
   "cell_type": "code",
   "execution_count": null,
   "id": "e925c555",
   "metadata": {
    "language_info": {
     "name": "polyglot-notebook"
    },
    "polyglot_notebook": {
     "kernelName": "csharp"
    }
   },
   "outputs": [],
   "source": [
    "#r \"nuget: Fhi.Authentication.Extensions, 1.0.0-beta\"\n",
    "#r \"nuget: Duende.IdentityModel, 7.0.0\"\n",
    "#r \"nuget: Microsoft.IdentityModel.Tokens, 8.9.0\"\n",
    "\n",
    "using System;\n",
    "using System.Net.Http;\n",
    "using System.Collections.Generic;\n",
    "using Fhi.Authentication.Tokens;\n",
    "using Duende.IdentityModel;\n",
    "using Microsoft.IdentityModel.Tokens;\n",
    "using System.IdentityModel.Tokens.Jwt;\n",
    "using System.Text.Json;\n",
    "\n",
    "var tokenEndpoint = \"https://demo.duendesoftware.com/connect/token\";\n",
    "var clientId = \"m2m.dpop.nonce\";\n",
    "var scope = \"api\";\n",
    "var clientSecret = \"secret\";\n",
    "\n",
    "var dpopKey = JwkGenerator.GenerateRsaJwk();\n",
    "Console.WriteLine($\"DPoP Public Key: {dpopKey.PublicKey}\");\n",
    "Console.WriteLine($\"DPoP Private Key: {dpopKey.PrivateKey}\");\n",
    "\n",
    "/************************************************************************\n",
    "* 1. Request token to get nonce\n",
    "*************************************************************************/\n",
    "var nonceRequest = new HttpRequestMessage(HttpMethod.Post, tokenEndpoint)\n",
    "{\n",
    "    Content = new FormUrlEncodedContent(new[]\n",
    "    {\n",
    "        new KeyValuePair<string, string>(\"grant_type\", \"client_credentials\"),\n",
    "        new KeyValuePair<string, string>(\"client_id\", clientId),\n",
    "        new KeyValuePair<string, string>(\"client_secret\", clientSecret),\n",
    "        new KeyValuePair<string, string>(\"scope\", scope)\n",
    "    })\n",
    "};\n",
    "var dpopProof = TokenHandlers.CreateDPoPProof(\n",
    "    dpopKey,\n",
    "    new JwtPayload\n",
    "        {\n",
    "            [JwtClaimTypes.JwtId] = Guid.NewGuid().ToString(),\n",
    "            [JwtClaimTypes.DPoPHttpMethod] = HttpMethod.Post.Method.ToString(),\n",
    "            [JwtClaimTypes.DPoPHttpUrl] = tokenEndpoint,\n",
    "            [JwtClaimTypes.IssuedAt] = DateTimeOffset.UtcNow.ToUnixTimeSeconds(),\n",
    "        });\n",
    "nonceRequest.Headers.Add(\"DPoP\", dpopProof);\n",
    "await LogRequest(nonceRequest);\n",
    "\n",
    "var client = new HttpClient();\n",
    "var nonceResponse = await client.SendAsync(nonceRequest);\n",
    "await LogResponse(nonceResponse);\n",
    "\n",
    "/************************************************************************\n",
    "* 2. Request token with nonce in DPoP proof\n",
    "*************************************************************************/\n",
    "var dpopNonce = nonceResponse.Headers.TryGetValues(\"DPoP-Nonce\", out var nonceValues) ? string.Join(\",\", nonceValues) : null;\n",
    "var dpopProofWithNonce = TokenHandlers.CreateDPoPProof(\n",
    "    dpopKey,\n",
    "    new JwtPayload\n",
    "        {\n",
    "            [JwtClaimTypes.JwtId] = Guid.NewGuid().ToString(),\n",
    "            [JwtClaimTypes.DPoPHttpMethod] = HttpMethod.Post.Method.ToString(),\n",
    "            [JwtClaimTypes.DPoPHttpUrl] = tokenEndpoint,\n",
    "            [JwtClaimTypes.IssuedAt] = DateTimeOffset.UtcNow.ToUnixTimeSeconds(),\n",
    "            [JwtClaimTypes.Nonce] = dpopNonce\n",
    "        });\n",
    "\n",
    "var tokenRequest = new HttpRequestMessage(HttpMethod.Post, tokenEndpoint)\n",
    "{\n",
    "    Content = new FormUrlEncodedContent(new[]\n",
    "    {\n",
    "        new KeyValuePair<string, string>(\"grant_type\", \"client_credentials\"),\n",
    "        new KeyValuePair<string, string>(\"client_id\", clientId),\n",
    "        new KeyValuePair<string, string>(\"client_secret\", clientSecret),\n",
    "        new KeyValuePair<string, string>(\"scope\", scope)\n",
    "    })\n",
    "};\n",
    "tokenRequest.Headers.Add(\"DPoP\", dpopProofWithNonce);\n",
    "await LogRequest(tokenRequest);\n",
    "\n",
    "var tokenResponse = await client.SendAsync(tokenRequest);\n",
    "await LogResponse(tokenResponse);\n",
    "\n",
    "public static class TokenHandlers\n",
    "{\n",
    "    public static string CreateDPoPProof(JwkKeyPair key, JwtPayload payload)\n",
    "    {\n",
    "        var securityKey = new JsonWebKey(key.PrivateKey);\n",
    "        var signingCredentials = new SigningCredentials(securityKey, SecurityAlgorithms.RsaSha256);\n",
    "        var jwkDict = System.Text.Json.JsonSerializer.Deserialize<Dictionary<string, object>>(key.PublicKey);\n",
    "        var jwtHeader = new JwtHeader(signingCredentials)\n",
    "        {\n",
    "            [JwtClaimTypes.TokenType] = \"dpop+jwt\",\n",
    "            [JwtClaimTypes.JsonWebKey] = jwkDict,\n",
    "        };\n",
    "        var jwt = new JwtSecurityToken(jwtHeader, payload);\n",
    "        return new JwtSecurityTokenHandler().WriteToken(jwt);\n",
    "    }\n",
    "}"
   ]
  }
 ],
 "metadata": {
  "kernelspec": {
   "display_name": ".NET (C#)",
   "language": "C#",
   "name": ".net-csharp"
  },
  "language_info": {
   "name": "polyglot-notebook"
  },
  "polyglot_notebook": {
   "kernelInfo": {
    "defaultKernelName": "csharp",
    "items": [
     {
      "aliases": [],
      "name": "csharp"
     }
    ]
   }
  }
 },
 "nbformat": 4,
 "nbformat_minor": 5
}
