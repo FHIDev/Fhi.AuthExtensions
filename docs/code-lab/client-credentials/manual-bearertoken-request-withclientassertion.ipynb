{
 "cells": [
  {
   "cell_type": "markdown",
   "id": "955dc106",
   "metadata": {},
   "source": [
    "# Bearer token request using client assertion\n",
    "This example demonstrates how to manually request a bearer token using the OAuth 2.0 client credentials flow with `client assertion`.\n",
    "\n",
    "For a detailed explanation of the code flow, see the [tutorial](../../../tutorials/server-to-server/manual-token-request).\n",
    "\n",
    "> Note! Be careful with  `new HttpClient()`, it is only for demo purposes."
   ]
  },
  {
   "cell_type": "code",
   "execution_count": 10,
   "metadata": {
    "language_info": {
     "name": "polyglot-notebook"
    },
    "polyglot_notebook": {
     "kernelName": "csharp"
    },
    "tags": [
     "parameters"
    ]
   },
   "outputs": [],
   "source": [
    "#!csharp\n",
    "var clientId = \"m2m.jwt\";\n",
    "var issuer = \"https://demo.duendesoftware.com\";\n",
    "var jwk= \"\"\"\n",
    "    {\n",
    "    \"d\":\"GmiaucNIzdvsEzGjZjd43SDToy1pz-Ph-shsOUXXh-dsYNGftITGerp8bO1iryXh_zUEo8oDK3r1y4klTonQ6bLsWw4ogjLPmL3yiqsoSjJa1G2Ymh_RY_sFZLLXAcrmpbzdWIAkgkHSZTaliL6g57vA7gxvd8L4s82wgGer_JmURI0ECbaCg98JVS0Srtf9GeTRHoX4foLWKc1Vq6NHthzqRMLZe-aRBNU9IMvXNd7kCcIbHCM3GTD_8cFj135nBPP2HOgC_ZXI1txsEf-djqJj8W5vaM7ViKU28IDv1gZGH3CatoysYx6jv1XJVvb2PH8RbFKbJmeyUm3Wvo-rgQ\",\n",
    "    \"dp\":\"YNjVBTCIwZD65WCht5ve06vnBLP_Po1NtL_4lkholmPzJ5jbLYBU8f5foNp8DVJBdFQW7wcLmx85-NC5Pl1ZeyA-Ecbw4fDraa5Z4wUKlF0LT6VV79rfOF19y8kwf6MigyrDqMLcH_CRnRGg5NfDsijlZXffINGuxg6wWzhiqqE\",\n",
    "    \"dq\":\"LfMDQbvTFNngkZjKkN2CBh5_MBG6Yrmfy4kWA8IC2HQqID5FtreiY2MTAwoDcoINfh3S5CItpuq94tlB2t-VUv8wunhbngHiB5xUprwGAAnwJ3DL39D2m43i_3YP-UO1TgZQUAOh7Jrd4foatpatTvBtY3F1DrCrUKE5Kkn770M\",\n",
    "    \"e\":\"AQAB\",\n",
    "    \"kid\":\"ZzAjSnraU3bkWGnnAqLapYGpTyNfLbjbzgAPbbW2GEA\",\n",
    "    \"kty\":\"RSA\",\n",
    "    \"n\":\"wWwQFtSzeRjjerpEM5Rmqz_DsNaZ9S1Bw6UbZkDLowuuTCjBWUax0vBMMxdy6XjEEK4Oq9lKMvx9JzjmeJf1knoqSNrox3Ka0rnxXpNAz6sATvme8p9mTXyp0cX4lF4U2J54xa2_S9NF5QWvpXvBeC4GAJx7QaSw4zrUkrc6XyaAiFnLhQEwKJCwUw4NOqIuYvYp_IXhw-5Ti_icDlZS-282PcccnBeOcX7vc21pozibIdmZJKqXNsL1Ibx5Nkx1F1jLnekJAmdaACDjYRLL_6n3W4wUp19UvzB1lGtXcJKLLkqB6YDiZNu16OSiSprfmrRXvYmvD8m6Fnl5aetgKw\",\n",
    "    \"p\":\"7enorp9Pm9XSHaCvQyENcvdU99WCPbnp8vc0KnY_0g9UdX4ZDH07JwKu6DQEwfmUA1qspC-e_KFWTl3x0-I2eJRnHjLOoLrTjrVSBRhBMGEH5PvtZTTThnIY2LReH-6EhceGvcsJ_MhNDUEZLykiH1OnKhmRuvSdhi8oiETqtPE\",\n",
    "    \"q\":\"0CBLGi_kRPLqI8yfVkpBbA9zkCAshgrWWn9hsq6a7Zl2LcLaLBRUxH0q1jWnXgeJh9o5v8sYGXwhbrmuypw7kJ0uA3OgEzSsNvX5Ay3R9sNel-3Mqm8Me5OfWWvmTEBOci8RwHstdR-7b9ZT13jk-dsZI7OlV_uBja1ny9Nz9ts\",\n",
    "    \"qi\":\"pG6J4dcUDrDndMxa-ee1yG4KjZqqyCQcmPAfqklI2LmnpRIjcK78scclvpboI3JQyg6RCEKVMwAhVtQM6cBcIO3JrHgqeYDblp5wXHjto70HVW6Z8kBruNx1AH9E8LzNvSRL-JVTFzBkJuNgzKQfD0G77tQRgJ-Ri7qu3_9o1M4\"\n",
    "}\n",
    "\"\"\";\n",
    "var scope = \"api\";\n",
    "var tokenEndpoint = \"https://demo.duendesoftware.com/connect/token\";"
   ]
  },
  {
   "cell_type": "code",
   "execution_count": null,
   "id": "31655b6a",
   "metadata": {
    "language_info": {
     "name": "polyglot-notebook"
    },
    "polyglot_notebook": {
     "kernelName": "csharp"
    }
   },
   "outputs": [],
   "source": [
    "#!csharp\n",
    "#load \"../HttpLoggerHelper.csx\"\n",
    "#r \"nuget: Fhi.Authentication.Extensions, 1.0.0-beta\"\n",
    "\n",
    "using System.Net.Http;\n",
    "using System.Net.Http.Headers;\n",
    "using System.Collections.Generic;\n",
    "using System.Text.Json;\n",
    "using Fhi.Authentication.Tokens;\n",
    "\n",
    "var assertion = ClientAssertionTokenHandler.CreateJwtToken(issuer, clientId,jwk);\n",
    "Console.WriteLine($\"Client assertion: {assertion}\");\n",
    "\n",
    "var request = new HttpRequestMessage(HttpMethod.Post, tokenEndpoint)\n",
    "{\n",
    "    Content = new FormUrlEncodedContent(new Dictionary<string, string>\n",
    "    {\n",
    "        [\"grant_type\"] = \"client_credentials\",\n",
    "        [\"client_id\"] = clientId,\n",
    "        [\"client_assertion_type\"] = \"urn:ietf:params:oauth:client-assertion-type:jwt-bearer\",\n",
    "        [\"client_assertion\"] = assertion,\n",
    "        [\"scope\"] = scope\n",
    "    })\n",
    "};\n",
    "await HttpLogger.LogRequest(request);\n",
    "\n",
    "var client = new HttpClient();\n",
    "var response = await client.SendAsync(request);\n",
    "var content = await response.Content.ReadAsStringAsync();\n",
    "await HttpLogger.LogResponse(response);"
   ]
  }
 ],
 "metadata": {
  "kernelspec": {
   "display_name": ".NET (C#)",
   "language": "C#",
   "name": ".net-csharp"
  },
  "language_info": {
   "name": "polyglot-notebook"
  },
  "polyglot_notebook": {
   "kernelInfo": {
    "defaultKernelName": "csharp",
    "items": [
     {
      "aliases": [],
      "name": "csharp"
     }
    ]
   }
  }
 },
 "nbformat": 4,
 "nbformat_minor": 5
}
